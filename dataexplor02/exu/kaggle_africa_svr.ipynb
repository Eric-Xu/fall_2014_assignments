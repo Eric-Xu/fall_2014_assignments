{
 "metadata": {
  "name": "",
  "signature": "sha256:b8a4fe57f3a04357cbfd8b9dcd199e7f428d7ac2a87a490a6a9df6ec268c2073"
 },
 "nbformat": 3,
 "nbformat_minor": 0,
 "worksheets": [
  {
   "cells": [
    {
     "cell_type": "code",
     "collapsed": false,
     "input": [
      "# source https://www.kaggle.com/c/afsis-soil-properties/forums/t/10351/beating-the-benchmark\n",
      "\n",
      "import pandas as pd\n",
      "import numpy as np\n",
      "from sklearn import svm, cross_validation"
     ],
     "language": "python",
     "metadata": {},
     "outputs": [],
     "prompt_number": 62
    },
    {
     "cell_type": "code",
     "collapsed": false,
     "input": [
      "train = pd.read_csv('/ga_fall_2014/fall_2014_assignments/dataexplor02/exu/kaggle_data/training.csv')\n",
      "test = pd.read_csv('/ga_fall_2014/fall_2014_assignments/dataexplor02/exu/kaggle_data/sorted_test.csv')"
     ],
     "language": "python",
     "metadata": {},
     "outputs": [],
     "prompt_number": 63
    },
    {
     "cell_type": "code",
     "collapsed": false,
     "input": [
      "train.Ca.head()"
     ],
     "language": "python",
     "metadata": {},
     "outputs": [
      {
       "metadata": {},
       "output_type": "pyout",
       "prompt_number": 64,
       "text": [
        "0   -0.295749\n",
        "1   -0.387442\n",
        "2   -0.248601\n",
        "3   -0.332195\n",
        "4   -0.438350\n",
        "Name: Ca, dtype: float64"
       ]
      }
     ],
     "prompt_number": 64
    },
    {
     "cell_type": "code",
     "collapsed": false,
     "input": [
      "soil_properties = train[['Ca','P','pH','SOC','Sand']].values"
     ],
     "language": "python",
     "metadata": {},
     "outputs": [],
     "prompt_number": 65
    },
    {
     "cell_type": "code",
     "collapsed": false,
     "input": [
      "soil_properties[:5]"
     ],
     "language": "python",
     "metadata": {},
     "outputs": [
      {
       "metadata": {},
       "output_type": "pyout",
       "prompt_number": 66,
       "text": [
        "array([[-0.29574924, -0.04133638, -1.12936595,  0.35325838,  1.26974781],\n",
        "       [-0.38744188, -0.23155201, -1.53153828, -0.26402306,  1.69220923],\n",
        "       [-0.24860129, -0.22463507, -0.25955137,  0.06415188,  2.09183489],\n",
        "       [-0.3321949 , -0.31801365, -0.5775481 , -0.31871889,  2.1184766 ],\n",
        "       [-0.4383501 , -0.01021018, -0.69913508, -0.3109052 ,  2.1641481 ]])"
       ]
      }
     ],
     "prompt_number": 66
    },
    {
     "cell_type": "code",
     "collapsed": false,
     "input": [
      "train.drop(['Ca', 'P', 'pH', 'SOC', 'Sand', 'PIDN'], axis=1, inplace=True) # axis=0 means drop row; axis=1 means drop column\n",
      "test.drop('PIDN', axis=1, inplace=True)"
     ],
     "language": "python",
     "metadata": {},
     "outputs": [],
     "prompt_number": 67
    },
    {
     "cell_type": "code",
     "collapsed": false,
     "input": [
      "xtrain, xtest = np.array(train)[:,:3578], np.array(test)[:,:3578] # slice all the rows and up to 3578 columns"
     ],
     "language": "python",
     "metadata": {},
     "outputs": [],
     "prompt_number": 68
    },
    {
     "cell_type": "code",
     "collapsed": false,
     "input": [
      "sup_vec = svm.SVR(C=10000.0, verbose = 2)"
     ],
     "language": "python",
     "metadata": {},
     "outputs": [],
     "prompt_number": 69
    },
    {
     "cell_type": "code",
     "collapsed": false,
     "input": [
      "predictions = np.zeros((xtest.shape[0], 5))"
     ],
     "language": "python",
     "metadata": {},
     "outputs": [],
     "prompt_number": 70
    },
    {
     "cell_type": "code",
     "collapsed": false,
     "input": [
      "predictions"
     ],
     "language": "python",
     "metadata": {},
     "outputs": [
      {
       "metadata": {},
       "output_type": "pyout",
       "prompt_number": 71,
       "text": [
        "array([[ 0.,  0.,  0.,  0.,  0.],\n",
        "       [ 0.,  0.,  0.,  0.,  0.],\n",
        "       [ 0.,  0.,  0.,  0.,  0.],\n",
        "       ..., \n",
        "       [ 0.,  0.,  0.,  0.,  0.],\n",
        "       [ 0.,  0.,  0.,  0.,  0.],\n",
        "       [ 0.,  0.,  0.,  0.,  0.]])"
       ]
      }
     ],
     "prompt_number": 71
    },
    {
     "cell_type": "code",
     "collapsed": false,
     "input": [
      "for i in range(5):\n",
      "    sup_vec.fit(xtrain, soil_properties[:,i])\n",
      "    predictions[:,i] = sup_vec.predict(xtest).astype(float)"
     ],
     "language": "python",
     "metadata": {},
     "outputs": [
      {
       "output_type": "stream",
       "stream": "stdout",
       "text": [
        "[LibSVM][LibSVM]"
       ]
      },
      {
       "output_type": "stream",
       "stream": "stdout",
       "text": [
        "[LibSVM]"
       ]
      },
      {
       "output_type": "stream",
       "stream": "stdout",
       "text": [
        "[LibSVM]"
       ]
      },
      {
       "output_type": "stream",
       "stream": "stdout",
       "text": [
        "[LibSVM]"
       ]
      }
     ],
     "prompt_number": 72
    },
    {
     "cell_type": "code",
     "collapsed": false,
     "input": [
      "sample = pd.read_csv('/ga_fall_2014/fall_2014_assignments/dataexplor02/exu/kaggle_data/sample_submission.csv')\n",
      "sample['Ca'] = predictions[:,0] # all the rows, just first column\n",
      "sample['P'] = predictions[:,1]\n",
      "sample['pH'] = predictions[:,2]\n",
      "sample['SOC'] = predictions[:,3]\n",
      "sample['Sand'] = predictions[:,4]"
     ],
     "language": "python",
     "metadata": {},
     "outputs": [],
     "prompt_number": 86
    },
    {
     "cell_type": "code",
     "collapsed": false,
     "input": [
      "sample.to_csv('/ga_fall_2014/fall_2014_assignments/dataexplor02/exu/svr_submission.csv', index = False)"
     ],
     "language": "python",
     "metadata": {},
     "outputs": [],
     "prompt_number": 87
    },
    {
     "cell_type": "code",
     "collapsed": false,
     "input": [],
     "language": "python",
     "metadata": {},
     "outputs": []
    }
   ],
   "metadata": {}
  }
 ]
}