{
 "metadata": {
  "name": "",
  "signature": "sha256:7465502e19d953d4b4f8a1718336920065bf19cb28e9ff76c775f6309bb2d115"
 },
 "nbformat": 3,
 "nbformat_minor": 0,
 "worksheets": [
  {
   "cells": [
    {
     "cell_type": "code",
     "collapsed": false,
     "input": [
      "%matplotlib inline\n",
      "import pandas as pd\n",
      "import numpy as np\n",
      "import matplotlib.pyplot as plt\n",
      "from sklearn.linear_model import LinearRegression\n",
      "from IPython.display import Image\n",
      "\n",
      "plt.rcParams['figure.figsize'] = (10, 5)"
     ],
     "language": "python",
     "metadata": {},
     "outputs": [],
     "prompt_number": 42
    },
    {
     "cell_type": "code",
     "collapsed": false,
     "input": [
      "np.random.seed(0)"
     ],
     "language": "python",
     "metadata": {},
     "outputs": [],
     "prompt_number": 22
    },
    {
     "cell_type": "code",
     "collapsed": false,
     "input": [
      "x = np.random.random(size=(200,1))"
     ],
     "language": "python",
     "metadata": {},
     "outputs": [],
     "prompt_number": 65
    },
    {
     "cell_type": "code",
     "collapsed": false,
     "input": [
      "x.shape"
     ],
     "language": "python",
     "metadata": {},
     "outputs": [
      {
       "metadata": {},
       "output_type": "pyout",
       "prompt_number": 67,
       "text": [
        "(200, 1)"
       ]
      }
     ],
     "prompt_number": 67
    },
    {
     "cell_type": "code",
     "collapsed": false,
     "input": [
      "x.squeeze()"
     ],
     "language": "python",
     "metadata": {},
     "outputs": [
      {
       "metadata": {},
       "output_type": "pyout",
       "prompt_number": 68,
       "text": [
        "array([ 0.73519402,  0.96218855,  0.24875314,  0.57615733,  0.59204193,\n",
        "        0.57225191,  0.22308163,  0.95274901,  0.44712538,  0.84640867,\n",
        "        0.69947928,  0.29743695,  0.81379782,  0.39650574,  0.8811032 ,\n",
        "        0.58127287,  0.88173536,  0.69253159,  0.72525428,  0.50132438,\n",
        "        0.95608363,  0.6439902 ,  0.42385505,  0.60639321,  0.0191932 ,\n",
        "        0.30157482,  0.66017354,  0.29007761,  0.61801543,  0.4287687 ,\n",
        "        0.13547406,  0.29828233,  0.56996491,  0.59087276,  0.57432525,\n",
        "        0.65320082,  0.65210327,  0.43141844,  0.8965466 ,  0.36756187,\n",
        "        0.43586493,  0.89192336,  0.80619399,  0.70388858,  0.10022689,\n",
        "        0.91948261,  0.7142413 ,  0.99884701,  0.1494483 ,  0.86812606,\n",
        "        0.16249293,  0.61555956,  0.12381998,  0.84800823,  0.80731896,\n",
        "        0.56910074,  0.4071833 ,  0.069167  ,  0.69742877,  0.45354268,\n",
        "        0.7220556 ,  0.86638233,  0.97552151,  0.85580334,  0.01171408,\n",
        "        0.35997806,  0.72999056,  0.17162968,  0.52103661,  0.05433799,\n",
        "        0.19999652,  0.01852179,  0.7936977 ,  0.22392469,  0.34535168,\n",
        "        0.92808129,  0.7044144 ,  0.03183893,  0.16469416,  0.6214784 ,\n",
        "        0.57722859,  0.23789282,  0.934214  ,  0.61396596,  0.5356328 ,\n",
        "        0.58990998,  0.73012203,  0.311945  ,  0.39822106,  0.20984375,\n",
        "        0.18619301,  0.94437239,  0.7395508 ,  0.49045881,  0.22741463,\n",
        "        0.25435648,  0.05802916,  0.43441663,  0.31179588,  0.69634349,\n",
        "        0.37775184,  0.17960368,  0.02467873,  0.06724963,  0.67939277,\n",
        "        0.45369684,  0.53657921,  0.89667129,  0.99033895,  0.21689698,\n",
        "        0.6630782 ,  0.26332238,  0.020651  ,  0.75837865,  0.32001715,\n",
        "        0.38346389,  0.58831711,  0.83104846,  0.62898184,  0.87265066,\n",
        "        0.27354203,  0.79804683,  0.18563594,  0.95279166,  0.68748828,\n",
        "        0.21550768,  0.94737059,  0.73085581,  0.25394164,  0.21331198,\n",
        "        0.51820071,  0.02566272,  0.20747008,  0.42468547,  0.37416998,\n",
        "        0.46357542,  0.27762871,  0.58678435,  0.86385561,  0.11753186,\n",
        "        0.51737911,  0.13206811,  0.71685968,  0.3960597 ,  0.56542131,\n",
        "        0.18327984,  0.14484776,  0.48805628,  0.35561274,  0.94043195,\n",
        "        0.76532525,  0.74866362,  0.90371974,  0.08342244,  0.55219247,\n",
        "        0.58447607,  0.96193638,  0.29214753,  0.24082878,  0.10029394,\n",
        "        0.01642963,  0.92952932,  0.66991655,  0.78515291,  0.28173011,\n",
        "        0.58641017,  0.06395527,  0.4856276 ,  0.97749514,  0.87650525,\n",
        "        0.33815895,  0.96157015,  0.23170163,  0.94931882,  0.9413777 ,\n",
        "        0.79920259,  0.63044794,  0.87428797,  0.29302028,  0.84894356,\n",
        "        0.61787669,  0.01323686,  0.34723352,  0.14814086,  0.98182939,\n",
        "        0.47837031,  0.49739137,  0.63947252,  0.36858461,  0.13690027,\n",
        "        0.82211773,  0.18984791,  0.51131898,  0.22431703,  0.09784448,\n",
        "        0.86219152,  0.97291949,  0.96083466,  0.9065555 ,  0.77404733])"
       ]
      }
     ],
     "prompt_number": 68
    },
    {
     "cell_type": "code",
     "collapsed": false,
     "input": [
      "y = 2 + 3 * x.squeeze() + np.random.normal(size=200)"
     ],
     "language": "python",
     "metadata": {},
     "outputs": [],
     "prompt_number": 70
    },
    {
     "cell_type": "code",
     "collapsed": false,
     "input": [
      "#print y"
     ],
     "language": "python",
     "metadata": {},
     "outputs": [
      {
       "output_type": "stream",
       "stream": "stdout",
       "text": [
        "[ 1.66376247  0.60484282  4.14641491  2.01276792  0.95954874  3.56895777\n",
        "  3.55568133  2.34324922  5.24292528  2.41727813  6.06877908  2.17112778\n",
        "  5.33262491  3.12972647  3.34699359  1.53871371  2.53686836  2.41675503\n",
        "  1.72327075  3.25700964]\n"
       ]
      }
     ],
     "prompt_number": 34
    },
    {
     "cell_type": "code",
     "collapsed": false,
     "input": [
      "plt.plot(x,y,'o')"
     ],
     "language": "python",
     "metadata": {},
     "outputs": [
      {
       "metadata": {},
       "output_type": "pyout",
       "prompt_number": 71,
       "text": [
        "[<matplotlib.lines.Line2D at 0x1141e0590>]"
       ]
      },
      {
       "metadata": {},
       "output_type": "display_data",
       "png": "[encoded data removed]",
       "text": [
        "<matplotlib.figure.Figure at 0x1140b57d0>"
       ]
      }
     ],
     "prompt_number": 71
    },
    {
     "cell_type": "code",
     "collapsed": false,
     "input": [
      "model = LinearRegression(fit_intercept=True)\n",
      "model.fit(x, y)\n",
      "print (\"Model coefficient: %.5f, and intercept: %.5f\"\n",
      "       % (model.coef_, model.intercept_))"
     ],
     "language": "python",
     "metadata": {},
     "outputs": [
      {
       "output_type": "stream",
       "stream": "stdout",
       "text": [
        "Model coefficient: 2.91955, and intercept: 1.93073\n"
       ]
      }
     ],
     "prompt_number": 72
    },
    {
     "cell_type": "code",
     "collapsed": false,
     "input": [
      "x_test = np.linspace(0,1,100).reshape(100,1)\n",
      "y_hat = model.predict(x_test)"
     ],
     "language": "python",
     "metadata": {},
     "outputs": [],
     "prompt_number": 79
    },
    {
     "cell_type": "code",
     "collapsed": false,
     "input": [
      "plt.plot(x,y,'o')\n",
      "plt.plot(x_test, y_hat, '.')"
     ],
     "language": "python",
     "metadata": {},
     "outputs": [
      {
       "metadata": {},
       "output_type": "pyout",
       "prompt_number": 81,
       "text": [
        "[<matplotlib.lines.Line2D at 0x1144f3610>]"
       ]
      },
      {
       "metadata": {},
       "output_type": "display_data",
       "png": "[encoded data removed]",
       "text": [
        "<matplotlib.figure.Figure at 0x114630950>"
       ]
      }
     ],
     "prompt_number": 81
    },
    {
     "cell_type": "code",
     "collapsed": false,
     "input": [],
     "language": "python",
     "metadata": {},
     "outputs": []
    }
   ],
   "metadata": {}
  }
 ]
}