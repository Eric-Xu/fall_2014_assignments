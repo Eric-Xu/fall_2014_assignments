{
 "metadata": {
  "name": "",
  "signature": "sha256:0be120c8601ecbf46fc7758b41c4b91b45671cc74af5523e603cec4b01dcd9e7"
 },
 "nbformat": 3,
 "nbformat_minor": 0,
 "worksheets": [
  {
   "cells": [
    {
     "cell_type": "code",
     "collapsed": false,
     "input": [
      "%matplotlib inline\n",
      "# from pylab import *\n",
      "\n",
      "import matplotlib.pyplot as plt\n",
      "import pandas as pd\n",
      "import numpy as np\n",
      "\n",
      "pd.set_option('display.mpl_style', 'default')"
     ],
     "language": "python",
     "metadata": {},
     "outputs": [],
     "prompt_number": 1
    },
    {
     "cell_type": "code",
     "collapsed": false,
     "input": [
      "# for i in range(30):\n",
      "#     url = \"http://stat.columbia.edu/~rachel/datasets/nyt%d.csv\" %(i+1)\n",
      "#     if i == 0:\n",
      "#         newdata = pd.read_csv(url)\n",
      "#     else:\n",
      "#         moredata = pd.read_csv(url)\n",
      "#         newdata = pd.concat([moredata, newdata])"
     ],
     "language": "python",
     "metadata": {},
     "outputs": []
    },
    {
     "cell_type": "code",
     "collapsed": false,
     "input": [
      "data = pd.read_csv('http://stat.columbia.edu/~rachel/datasets/nyt1.csv')\n",
      "print \"Number of rows: %i. Number of columns: %i\" %(data.shape[0],data.shape[1])\n",
      "data.head()"
     ],
     "language": "python",
     "metadata": {},
     "outputs": [
      {
       "output_type": "stream",
       "stream": "stdout",
       "text": [
        "Number of rows: 458441. Number of columns: 5\n"
       ]
      },
      {
       "html": [
        "<div style=\"max-height:1000px;max-width:1500px;overflow:auto;\">\n",
        "<table border=\"1\" class=\"dataframe\">\n",
        "  <thead>\n",
        "    <tr style=\"text-align: right;\">\n",
        "      <th></th>\n",
        "      <th>Age</th>\n",
        "      <th>Gender</th>\n",
        "      <th>Impressions</th>\n",
        "      <th>Clicks</th>\n",
        "      <th>Signed_In</th>\n",
        "    </tr>\n",
        "  </thead>\n",
        "  <tbody>\n",
        "    <tr>\n",
        "      <th>0</th>\n",
        "      <td> 36</td>\n",
        "      <td> 0</td>\n",
        "      <td>  3</td>\n",
        "      <td> 0</td>\n",
        "      <td> 1</td>\n",
        "    </tr>\n",
        "    <tr>\n",
        "      <th>1</th>\n",
        "      <td> 73</td>\n",
        "      <td> 1</td>\n",
        "      <td>  3</td>\n",
        "      <td> 0</td>\n",
        "      <td> 1</td>\n",
        "    </tr>\n",
        "    <tr>\n",
        "      <th>2</th>\n",
        "      <td> 30</td>\n",
        "      <td> 0</td>\n",
        "      <td>  3</td>\n",
        "      <td> 0</td>\n",
        "      <td> 1</td>\n",
        "    </tr>\n",
        "    <tr>\n",
        "      <th>3</th>\n",
        "      <td> 49</td>\n",
        "      <td> 1</td>\n",
        "      <td>  3</td>\n",
        "      <td> 0</td>\n",
        "      <td> 1</td>\n",
        "    </tr>\n",
        "    <tr>\n",
        "      <th>4</th>\n",
        "      <td> 47</td>\n",
        "      <td> 1</td>\n",
        "      <td> 11</td>\n",
        "      <td> 0</td>\n",
        "      <td> 1</td>\n",
        "    </tr>\n",
        "  </tbody>\n",
        "</table>\n",
        "</div>"
       ],
       "metadata": {},
       "output_type": "pyout",
       "prompt_number": 4,
       "text": [
        "   Age  Gender  Impressions  Clicks  Signed_In\n",
        "0   36       0            3       0          1\n",
        "1   73       1            3       0          1\n",
        "2   30       0            3       0          1\n",
        "3   49       1            3       0          1\n",
        "4   47       1           11       0          1"
       ]
      }
     ],
     "prompt_number": 4
    },
    {
     "cell_type": "code",
     "collapsed": false,
     "input": [
      "data.describe()"
     ],
     "language": "python",
     "metadata": {},
     "outputs": [
      {
       "html": [
        "<div style=\"max-height:1000px;max-width:1500px;overflow:auto;\">\n",
        "<table border=\"1\" class=\"dataframe\">\n",
        "  <thead>\n",
        "    <tr style=\"text-align: right;\">\n",
        "      <th></th>\n",
        "      <th>Age</th>\n",
        "      <th>Gender</th>\n",
        "      <th>Impressions</th>\n",
        "      <th>Clicks</th>\n",
        "      <th>Signed_In</th>\n",
        "    </tr>\n",
        "  </thead>\n",
        "  <tbody>\n",
        "    <tr>\n",
        "      <th>count</th>\n",
        "      <td> 458441.000000</td>\n",
        "      <td> 458441.000000</td>\n",
        "      <td> 458441.000000</td>\n",
        "      <td> 458441.000000</td>\n",
        "      <td> 458441.000000</td>\n",
        "    </tr>\n",
        "    <tr>\n",
        "      <th>mean</th>\n",
        "      <td>     29.482551</td>\n",
        "      <td>      0.367037</td>\n",
        "      <td>      5.007316</td>\n",
        "      <td>      0.092594</td>\n",
        "      <td>      0.700930</td>\n",
        "    </tr>\n",
        "    <tr>\n",
        "      <th>std</th>\n",
        "      <td>     23.607034</td>\n",
        "      <td>      0.481997</td>\n",
        "      <td>      2.239349</td>\n",
        "      <td>      0.309973</td>\n",
        "      <td>      0.457851</td>\n",
        "    </tr>\n",
        "    <tr>\n",
        "      <th>min</th>\n",
        "      <td>      0.000000</td>\n",
        "      <td>      0.000000</td>\n",
        "      <td>      0.000000</td>\n",
        "      <td>      0.000000</td>\n",
        "      <td>      0.000000</td>\n",
        "    </tr>\n",
        "    <tr>\n",
        "      <th>25%</th>\n",
        "      <td>      0.000000</td>\n",
        "      <td>      0.000000</td>\n",
        "      <td>      3.000000</td>\n",
        "      <td>      0.000000</td>\n",
        "      <td>      0.000000</td>\n",
        "    </tr>\n",
        "    <tr>\n",
        "      <th>50%</th>\n",
        "      <td>     31.000000</td>\n",
        "      <td>      0.000000</td>\n",
        "      <td>      5.000000</td>\n",
        "      <td>      0.000000</td>\n",
        "      <td>      1.000000</td>\n",
        "    </tr>\n",
        "    <tr>\n",
        "      <th>75%</th>\n",
        "      <td>     48.000000</td>\n",
        "      <td>      1.000000</td>\n",
        "      <td>      6.000000</td>\n",
        "      <td>      0.000000</td>\n",
        "      <td>      1.000000</td>\n",
        "    </tr>\n",
        "    <tr>\n",
        "      <th>max</th>\n",
        "      <td>    108.000000</td>\n",
        "      <td>      1.000000</td>\n",
        "      <td>     20.000000</td>\n",
        "      <td>      4.000000</td>\n",
        "      <td>      1.000000</td>\n",
        "    </tr>\n",
        "  </tbody>\n",
        "</table>\n",
        "</div>"
       ],
       "metadata": {},
       "output_type": "pyout",
       "prompt_number": 5,
       "text": [
        "                 Age         Gender    Impressions         Clicks  \\\n",
        "count  458441.000000  458441.000000  458441.000000  458441.000000   \n",
        "mean       29.482551       0.367037       5.007316       0.092594   \n",
        "std        23.607034       0.481997       2.239349       0.309973   \n",
        "min         0.000000       0.000000       0.000000       0.000000   \n",
        "25%         0.000000       0.000000       3.000000       0.000000   \n",
        "50%        31.000000       0.000000       5.000000       0.000000   \n",
        "75%        48.000000       1.000000       6.000000       0.000000   \n",
        "max       108.000000       1.000000      20.000000       4.000000   \n",
        "\n",
        "           Signed_In  \n",
        "count  458441.000000  \n",
        "mean        0.700930  \n",
        "std         0.457851  \n",
        "min         0.000000  \n",
        "25%         0.000000  \n",
        "50%         1.000000  \n",
        "75%         1.000000  \n",
        "max         1.000000  "
       ]
      }
     ],
     "prompt_number": 5
    },
    {
     "cell_type": "code",
     "collapsed": false,
     "input": [
      "data.info()"
     ],
     "language": "python",
     "metadata": {},
     "outputs": [
      {
       "output_type": "stream",
       "stream": "stdout",
       "text": [
        "<class 'pandas.core.frame.DataFrame'>\n",
        "Int64Index: 458441 entries, 0 to 458440\n",
        "Data columns (total 5 columns):\n",
        "Age            458441 non-null int64\n",
        "Gender         458441 non-null int64\n",
        "Impressions    458441 non-null int64\n",
        "Clicks         458441 non-null int64\n",
        "Signed_In      458441 non-null int64\n",
        "dtypes: int64(5)"
       ]
      }
     ],
     "prompt_number": 6
    },
    {
     "cell_type": "code",
     "collapsed": false,
     "input": [
      "data.corr()"
     ],
     "language": "python",
     "metadata": {},
     "outputs": [
      {
       "html": [
        "<div style=\"max-height:1000px;max-width:1500px;overflow:auto;\">\n",
        "<table border=\"1\" class=\"dataframe\">\n",
        "  <thead>\n",
        "    <tr style=\"text-align: right;\">\n",
        "      <th></th>\n",
        "      <th>Age</th>\n",
        "      <th>Gender</th>\n",
        "      <th>Impressions</th>\n",
        "      <th>Clicks</th>\n",
        "      <th>Signed_In</th>\n",
        "    </tr>\n",
        "  </thead>\n",
        "  <tbody>\n",
        "    <tr>\n",
        "      <th>Age</th>\n",
        "      <td> 1.000000</td>\n",
        "      <td> 0.365833</td>\n",
        "      <td> 0.002906</td>\n",
        "      <td>-0.058254</td>\n",
        "      <td> 0.815780</td>\n",
        "    </tr>\n",
        "    <tr>\n",
        "      <th>Gender</th>\n",
        "      <td> 0.365833</td>\n",
        "      <td> 1.000000</td>\n",
        "      <td> 0.000447</td>\n",
        "      <td>-0.055529</td>\n",
        "      <td> 0.497411</td>\n",
        "    </tr>\n",
        "    <tr>\n",
        "      <th>Impressions</th>\n",
        "      <td> 0.002906</td>\n",
        "      <td> 0.000447</td>\n",
        "      <td> 1.000000</td>\n",
        "      <td> 0.135156</td>\n",
        "      <td> 0.002234</td>\n",
        "    </tr>\n",
        "    <tr>\n",
        "      <th>Clicks</th>\n",
        "      <td>-0.058254</td>\n",
        "      <td>-0.055529</td>\n",
        "      <td> 0.135156</td>\n",
        "      <td> 1.000000</td>\n",
        "      <td>-0.104281</td>\n",
        "    </tr>\n",
        "    <tr>\n",
        "      <th>Signed_In</th>\n",
        "      <td> 0.815780</td>\n",
        "      <td> 0.497411</td>\n",
        "      <td> 0.002234</td>\n",
        "      <td>-0.104281</td>\n",
        "      <td> 1.000000</td>\n",
        "    </tr>\n",
        "  </tbody>\n",
        "</table>\n",
        "</div>"
       ],
       "metadata": {},
       "output_type": "pyout",
       "prompt_number": 7,
       "text": [
        "                  Age    Gender  Impressions    Clicks  Signed_In\n",
        "Age          1.000000  0.365833     0.002906 -0.058254   0.815780\n",
        "Gender       0.365833  1.000000     0.000447 -0.055529   0.497411\n",
        "Impressions  0.002906  0.000447     1.000000  0.135156   0.002234\n",
        "Clicks      -0.058254 -0.055529     0.135156  1.000000  -0.104281\n",
        "Signed_In    0.815780  0.497411     0.002234 -0.104281   1.000000"
       ]
      }
     ],
     "prompt_number": 7
    },
    {
     "cell_type": "code",
     "collapsed": false,
     "input": [
      "data.head()"
     ],
     "language": "python",
     "metadata": {},
     "outputs": [
      {
       "html": [
        "<div style=\"max-height:1000px;max-width:1500px;overflow:auto;\">\n",
        "<table border=\"1\" class=\"dataframe\">\n",
        "  <thead>\n",
        "    <tr style=\"text-align: right;\">\n",
        "      <th></th>\n",
        "      <th>Age</th>\n",
        "      <th>Gender</th>\n",
        "      <th>Impressions</th>\n",
        "      <th>Clicks</th>\n",
        "      <th>Signed_In</th>\n",
        "    </tr>\n",
        "  </thead>\n",
        "  <tbody>\n",
        "    <tr>\n",
        "      <th>0</th>\n",
        "      <td> 36</td>\n",
        "      <td> 0</td>\n",
        "      <td>  3</td>\n",
        "      <td> 0</td>\n",
        "      <td> 1</td>\n",
        "    </tr>\n",
        "    <tr>\n",
        "      <th>1</th>\n",
        "      <td> 73</td>\n",
        "      <td> 1</td>\n",
        "      <td>  3</td>\n",
        "      <td> 0</td>\n",
        "      <td> 1</td>\n",
        "    </tr>\n",
        "    <tr>\n",
        "      <th>2</th>\n",
        "      <td> 30</td>\n",
        "      <td> 0</td>\n",
        "      <td>  3</td>\n",
        "      <td> 0</td>\n",
        "      <td> 1</td>\n",
        "    </tr>\n",
        "    <tr>\n",
        "      <th>3</th>\n",
        "      <td> 49</td>\n",
        "      <td> 1</td>\n",
        "      <td>  3</td>\n",
        "      <td> 0</td>\n",
        "      <td> 1</td>\n",
        "    </tr>\n",
        "    <tr>\n",
        "      <th>4</th>\n",
        "      <td> 47</td>\n",
        "      <td> 1</td>\n",
        "      <td> 11</td>\n",
        "      <td> 0</td>\n",
        "      <td> 1</td>\n",
        "    </tr>\n",
        "  </tbody>\n",
        "</table>\n",
        "</div>"
       ],
       "metadata": {},
       "output_type": "pyout",
       "prompt_number": 11,
       "text": [
        "   Age  Gender  Impressions  Clicks  Signed_In\n",
        "0   36       0            3       0          1\n",
        "1   73       1            3       0          1\n",
        "2   30       0            3       0          1\n",
        "3   49       1            3       0          1\n",
        "4   47       1           11       0          1"
       ]
      }
     ],
     "prompt_number": 11
    },
    {
     "cell_type": "code",
     "collapsed": false,
     "input": [
      "data[data.Age>0].count()"
     ],
     "language": "python",
     "metadata": {},
     "outputs": [
      {
       "metadata": {},
       "output_type": "pyout",
       "prompt_number": 15,
       "text": [
        "Age            321335\n",
        "Gender         321335\n",
        "Impressions    321335\n",
        "Clicks         321335\n",
        "Signed_In      321335\n",
        "dtype: int64"
       ]
      }
     ],
     "prompt_number": 15
    },
    {
     "cell_type": "code",
     "collapsed": false,
     "input": [
      "data[data.Signed_In==1].count()"
     ],
     "language": "python",
     "metadata": {},
     "outputs": [
      {
       "metadata": {},
       "output_type": "pyout",
       "prompt_number": 16,
       "text": [
        "Age            321335\n",
        "Gender         321335\n",
        "Impressions    321335\n",
        "Clicks         321335\n",
        "Signed_In      321335\n",
        "dtype: int64"
       ]
      }
     ],
     "prompt_number": 16
    },
    {
     "cell_type": "code",
     "collapsed": false,
     "input": [
      "subset = data[data.Signed_In == 1]\n",
      "plt.plot(subset.Age, subset.Impressions, 'o')"
     ],
     "language": "python",
     "metadata": {},
     "outputs": [
      {
       "metadata": {},
       "output_type": "pyout",
       "prompt_number": 28,
       "text": [
        "[<matplotlib.lines.Line2D at 0x11cf32c50>]"
       ]
      },
      {
       "metadata": {},
       "output_type": "display_data",
       "png": "[encoded data removed]",
       "text": [
        "<matplotlib.figure.Figure at 0x1159f0510>"
       ]
      }
     ],
     "prompt_number": 28
    },
    {
     "cell_type": "code",
     "collapsed": false,
     "input": [
      "data.Age.hist(bins=20)"
     ],
     "language": "python",
     "metadata": {},
     "outputs": [
      {
       "metadata": {},
       "output_type": "pyout",
       "prompt_number": 24,
       "text": [
        "<matplotlib.axes.AxesSubplot at 0x1148fac10>"
       ]
      },
      {
       "metadata": {},
       "output_type": "display_data",
       "png": "[encoded data removed]",
       "text": [
        "<matplotlib.figure.Figure at 0x1148484d0>"
       ]
      }
     ],
     "prompt_number": 24
    },
    {
     "cell_type": "code",
     "collapsed": false,
     "input": [
      "subset.Age.hist(bins=20)"
     ],
     "language": "python",
     "metadata": {},
     "outputs": [
      {
       "metadata": {},
       "output_type": "pyout",
       "prompt_number": 25,
       "text": [
        "<matplotlib.axes.AxesSubplot at 0x114c87350>"
       ]
      },
      {
       "metadata": {},
       "output_type": "display_data",
       "png": "[encoded data removed]",
       "text": [
        "<matplotlib.figure.Figure at 0x114689910>"
       ]
      }
     ],
     "prompt_number": 25
    },
    {
     "cell_type": "code",
     "collapsed": false,
     "input": [
      "subset.corr()"
     ],
     "language": "python",
     "metadata": {},
     "outputs": [
      {
       "html": [
        "<div style=\"max-height:1000px;max-width:1500px;overflow:auto;\">\n",
        "<table border=\"1\" class=\"dataframe\">\n",
        "  <thead>\n",
        "    <tr style=\"text-align: right;\">\n",
        "      <th></th>\n",
        "      <th>Age</th>\n",
        "      <th>Gender</th>\n",
        "      <th>Impressions</th>\n",
        "      <th>Clicks</th>\n",
        "      <th>Signed_In</th>\n",
        "    </tr>\n",
        "  </thead>\n",
        "  <tbody>\n",
        "    <tr>\n",
        "      <th>Age</th>\n",
        "      <td> 1.000000</td>\n",
        "      <td>-0.079615</td>\n",
        "      <td> 0.002238</td>\n",
        "      <td> 0.063896</td>\n",
        "      <td>NaN</td>\n",
        "    </tr>\n",
        "    <tr>\n",
        "      <th>Gender</th>\n",
        "      <td>-0.079615</td>\n",
        "      <td> 1.000000</td>\n",
        "      <td>-0.000915</td>\n",
        "      <td>-0.005811</td>\n",
        "      <td>NaN</td>\n",
        "    </tr>\n",
        "    <tr>\n",
        "      <th>Impressions</th>\n",
        "      <td> 0.002238</td>\n",
        "      <td>-0.000915</td>\n",
        "      <td> 1.000000</td>\n",
        "      <td> 0.121548</td>\n",
        "      <td>NaN</td>\n",
        "    </tr>\n",
        "    <tr>\n",
        "      <th>Clicks</th>\n",
        "      <td> 0.063896</td>\n",
        "      <td>-0.005811</td>\n",
        "      <td> 0.121548</td>\n",
        "      <td> 1.000000</td>\n",
        "      <td>NaN</td>\n",
        "    </tr>\n",
        "    <tr>\n",
        "      <th>Signed_In</th>\n",
        "      <td>      NaN</td>\n",
        "      <td>      NaN</td>\n",
        "      <td>      NaN</td>\n",
        "      <td>      NaN</td>\n",
        "      <td>NaN</td>\n",
        "    </tr>\n",
        "  </tbody>\n",
        "</table>\n",
        "</div>"
       ],
       "metadata": {},
       "output_type": "pyout",
       "prompt_number": 27,
       "text": [
        "                  Age    Gender  Impressions    Clicks  Signed_In\n",
        "Age          1.000000 -0.079615     0.002238  0.063896        NaN\n",
        "Gender      -0.079615  1.000000    -0.000915 -0.005811        NaN\n",
        "Impressions  0.002238 -0.000915     1.000000  0.121548        NaN\n",
        "Clicks       0.063896 -0.005811     0.121548  1.000000        NaN\n",
        "Signed_In         NaN       NaN          NaN       NaN        NaN"
       ]
      }
     ],
     "prompt_number": 27
    },
    {
     "cell_type": "code",
     "collapsed": false,
     "input": [],
     "language": "python",
     "metadata": {},
     "outputs": []
    }
   ],
   "metadata": {}
  }
 ]
}